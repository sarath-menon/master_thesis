{
 "cells": [
  {
   "cell_type": "code",
   "execution_count": 11,
   "metadata": {},
   "outputs": [],
   "source": [
    "from datasets import load_dataset\n",
    "import numpy as np\n",
    "import os\n",
    "import glob\n",
    "from PIL import Image"
   ]
  },
  {
   "cell_type": "markdown",
   "metadata": {},
   "source": [
    "## Convert images to indices and set resolution"
   ]
  },
  {
   "cell_type": "code",
   "execution_count": 60,
   "metadata": {},
   "outputs": [],
   "source": [
    "raw_images_path = \"../datasets/raw_media/gameplay_images\"\n",
    "resized_images_path = \"../datasets/resized_media/gameplay_images\"\n",
    "\n",
    " # Define the scale factor\n",
    "scale_factor = 0.5\n",
    "\n",
    "# Iterate over each folder in the images path\n",
    "for folder in os.listdir(raw_raw_images_path):\n",
    "    # Check if the current item is a directory\n",
    "    if os.path.isdir(os.path.join(raw_images_path, folder)):\n",
    "       \n",
    "        # Get all jpg files in the current folder\n",
    "        image_files = glob.glob(os.path.join(raw_images_path, folder, '*.jpg')) + glob.glob(os.path.join(raw_images_path, folder, '*.png'))\n",
    "        \n",
    "        # Iterate over each file in the current folder\n",
    "        for i, file in enumerate(image_files):\n",
    "            \n",
    "            # Scale the resolution of the image\n",
    "            img = Image.open(file)\n",
    "            img = img.resize((int(img.size[0]*scale_factor), int(img.size[1]*scale_factor)))\n",
    "            \n",
    "            # Save the image with the same extension as the original file\n",
    "            file_extension = os.path.splitext(file)[1]\n",
    "            save_folder = os.path.join(resized_images_path, folder)\n",
    "            if not os.path.exists(save_folder):\n",
    "                os.makedirs(save_folder)\n",
    "            img.save(os.path.join(save_folder, f'{i}{file_extension}'))\n",
    "            \n",
    "            # # Print the image resolution\n",
    "            # print(f'Image resolution: {img.size[0]} x {img.size[1]}')"
   ]
  }
 ],
 "metadata": {
  "kernelspec": {
   "display_name": "llm_env",
   "language": "python",
   "name": "python3"
  },
  "language_info": {
   "codemirror_mode": {
    "name": "ipython",
    "version": 3
   },
   "file_extension": ".py",
   "mimetype": "text/x-python",
   "name": "python",
   "nbconvert_exporter": "python",
   "pygments_lexer": "ipython3",
   "version": "3.12.3"
  }
 },
 "nbformat": 4,
 "nbformat_minor": 2
}
